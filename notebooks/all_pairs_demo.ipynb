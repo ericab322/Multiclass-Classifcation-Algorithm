{
 "cells": [
  {
   "cell_type": "code",
   "execution_count": 11,
   "metadata": {},
   "outputs": [
    {
     "name": "stdout",
     "output_type": "stream",
     "text": [
      "Current working directory: /Users/ericabrown/data2060/Multiclass-Classification-Algorithm\n",
      "Training Accuracy: 69.45%\n",
      "Test Accuracy: 68.21%\n"
     ]
    }
   ],
   "source": [
    "# Our model\n",
    "import os\n",
    "par_working_dir = '/Users/ericabrown/data2060/Multiclass-Classification-Algorithm'\n",
    "os.chdir(par_working_dir)\n",
    "print(\"Current working directory:\", os.getcwd())\n",
    "import pandas as pd\n",
    "import numpy as np\n",
    "from sklearn.model_selection import train_test_split\n",
    "from src.all_pairs import AllPairsLogisticRegression\n",
    "from src.binary_logistic_regression import BinaryLogisticRegression\n",
    "\n",
    "\n",
    "df = pd.read_csv(\"/Users/ericabrown/data2060/Multiclass-Classification-Algorithm/data/processed/obesity_standardized.csv\")\n",
    "X = df.drop(\"NObeyesdad\", axis=1).values  \n",
    "Y = df[\"NObeyesdad\"].values \n",
    "\n",
    "X_train, X_test, Y_train, Y_test = train_test_split(X, Y, test_size=0.3, random_state=42)\n",
    "\n",
    "n_classes = len(np.unique(Y))  \n",
    "n_features = X_train.shape[1]\n",
    "batch_size = 10\n",
    "epochs = 100\n",
    "conv_threshold=0.01\n",
    "binary_classifier_class = BinaryLogisticRegression\n",
    "\n",
    "model = AllPairsLogisticRegression(n_classes=n_classes,\n",
    "                                   binary_classifier_class=binary_classifier_class,\n",
    "                                   n_features=n_features, \n",
    "                                   batch_size=batch_size,\n",
    "                                   conv_threshold=conv_threshold, \n",
    "                                   epochs=epochs\n",
    "                                )\n",
    "model.train(X_train, Y_train)\n",
    "train_accuracy = model.accuracy(X_train, Y_train)\n",
    "test_accuracy = model.accuracy(X_test, Y_test)\n",
    "print(f\"Training Accuracy: {train_accuracy * 100:.2f}%\")\n",
    "print(f\"Test Accuracy: {test_accuracy * 100:.2f}%\")\n"
   ]
  },
  {
   "cell_type": "code",
   "execution_count": 9,
   "metadata": {},
   "outputs": [
    {
     "name": "stdout",
     "output_type": "stream",
     "text": [
      "Training Accuracy: 94.73%\n",
      "Test Accuracy: 92.81%\n"
     ]
    }
   ],
   "source": [
    "# SKLearn LR model\n",
    "from sklearn.multiclass import OneVsOneClassifier\n",
    "from sklearn.linear_model import LogisticRegression\n",
    "from sklearn.metrics import accuracy_score\n",
    "\n",
    "\n",
    "# One-vs-One logistic regression\n",
    "model_ovo = OneVsOneClassifier(LogisticRegression(solver='saga', max_iter=1000, random_state=42))\n",
    "model_ovo.fit(X_train, Y_train)\n",
    "\n",
    "y_train_pred = model_ovo.predict(X_train)\n",
    "y_test_pred = model_ovo.predict(X_test)\n",
    "\n",
    "train_acc = accuracy_score(Y_train, y_train_pred) \n",
    "test_acc = accuracy_score(Y_test, y_test_pred) \n",
    "\n",
    "print(f\"Training Accuracy: {train_acc * 100:.2f}%\")\n",
    "print(f\"Test Accuracy: {test_acc * 100:.2f}%\")"
   ]
  }
 ],
 "metadata": {
  "kernelspec": {
   "display_name": "Python 3",
   "language": "python",
   "name": "python3"
  },
  "language_info": {
   "codemirror_mode": {
    "name": "ipython",
    "version": 3
   },
   "file_extension": ".py",
   "mimetype": "text/x-python",
   "name": "python",
   "nbconvert_exporter": "python",
   "pygments_lexer": "ipython3",
   "version": "3.12.5"
  }
 },
 "nbformat": 4,
 "nbformat_minor": 2
}
