{
 "cells": [
  {
   "cell_type": "code",
   "execution_count": 5,
   "metadata": {},
   "outputs": [
    {
     "name": "stdout",
     "output_type": "stream",
     "text": [
      "\n",
      "Feature: Height\n",
      "Min: 1.45, Max: 1.98\n",
      "\n",
      "Feature: Weight\n",
      "Min: 39.0, Max: 165.057269\n",
      "\n",
      "Feature: family_history_with_overweight\n",
      "Min: 0, Max: 1\n",
      "\n",
      "Feature: SCC\n",
      "Min: 0, Max: 1\n",
      "\n",
      "Feature: MTRANS_Walking\n",
      "Min: 0, Max: 1\n",
      "\n",
      "Feature: FAVC_z\n",
      "Min: 0.3614184641562495, Max: 2.766875794059256\n",
      "\n",
      "Feature: FCVC_minmax\n",
      "Min: 0.0, Max: 1.0\n",
      "\n",
      "Feature: NCP_z\n",
      "Min: 0.0023753474098138, Max: 2.1641155666736696\n",
      "\n",
      "Feature: CAEC_minmax\n",
      "Min: 0.0, Max: 1.0\n",
      "\n",
      "Feature: CH2O_minmax\n",
      "Min: 0.0, Max: 1.0\n",
      "\n",
      "Feature: FAF_minmax\n",
      "Min: 0.0, Max: 1.0\n",
      "\n",
      "Feature: TUE_z\n",
      "Min: 0.0001455502042623, Max: 2.1946944415165657\n",
      "\n",
      "Feature: CALC_z\n",
      "Min: 0.5165517806528838, Max: 4.4277206171026675\n",
      "\n",
      "Feature: Age_bin_minmax\n",
      "Min: 0.0, Max: 1.0\n",
      "\n",
      "Feature: NObeyesdad\n",
      "Min: 0, Max: 6\n"
     ]
    }
   ],
   "source": []
  }
 ],
 "metadata": {
  "kernelspec": {
   "display_name": "data2060",
   "language": "python",
   "name": "python3"
  },
  "language_info": {
   "codemirror_mode": {
    "name": "ipython",
    "version": 3
   },
   "file_extension": ".py",
   "mimetype": "text/x-python",
   "name": "python",
   "nbconvert_exporter": "python",
   "pygments_lexer": "ipython3",
   "version": "3.12.5"
  }
 },
 "nbformat": 4,
 "nbformat_minor": 2
}
