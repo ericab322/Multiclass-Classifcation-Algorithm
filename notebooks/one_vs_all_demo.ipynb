{
 "cells": [
  {
   "cell_type": "code",
   "execution_count": 26,
   "metadata": {},
   "outputs": [
    {
     "name": "stdout",
     "output_type": "stream",
     "text": [
      "Current working directory: /Users/musatahir/CS2060/Multiclass-Classification-Algorithm\n"
     ]
    }
   ],
   "source": [
    "import os\n",
    "par_working_dir = \"/Users/musatahir/CS2060/Multiclass-Classification-Algorithm\"\n",
    "os.chdir(par_working_dir)\n",
    "print(\"Current working directory:\", os.getcwd())\n",
    "\n",
    "import pandas as pd\n",
    "from src.one_vs_all import OneVsAllLogisticRegression\n",
    "from src.binary_logistic_regression import BinaryLogisticRegression\n",
    "from sklearn.model_selection import train_test_split\n",
    "import random\n",
    "import numpy as np"
   ]
  },
  {
   "cell_type": "code",
   "execution_count": 27,
   "metadata": {},
   "outputs": [
    {
     "name": "stdout",
     "output_type": "stream",
     "text": [
      "Training Accuracy: 73.14%\n",
      "Test Accuracy: 70.10%\n",
      "2.8692170781476425\n",
      "0.2743820904934712\n",
      "0.2617520561672518\n",
      "0.23345311228827925\n",
      "0.3512522664137938\n",
      "1.022648528126028\n",
      "2.992188546134821\n"
     ]
    }
   ],
   "source": [
    "\n",
    "data = pd.read_csv(\"./data/processed/obesity_standardized.csv\")\n",
    "\n",
    "n_classes = 7\n",
    "n_features = 13\n",
    "batch_size = 1\n",
    "epochs = 100\n",
    "model = OneVsAllLogisticRegression(n_classes=n_classes, binary_classifier_class=BinaryLogisticRegression,\n",
    "            n_features=n_features,\n",
    "            batch_size=batch_size,\n",
    "            epochs=epochs, random_state=42\n",
    "        )\n",
    "\n",
    "X = data.drop('NObeyesdad', axis=1)\n",
    "y = data['NObeyesdad']\n",
    "\n",
    "\n",
    "X_train, X_test, y_train, y_test = train_test_split(X, y, test_size=0.2, random_state=42)\n",
    "model.train(X_train, y_train)\n",
    "train_acc = model.accuracy(X_train, y_train)\n",
    "test_acc = model.accuracy(X_test, y_test)\n",
    "print(f\"Training Accuracy: {train_acc * 100:.2f}%\")\n",
    "print(f\"Test Accuracy: {test_acc * 100:.2f}%\")\n",
    "for class_i, mod in model.classifiers.items():\n",
    "    preds = mod.predict(X_train)\n",
    "    print(mod.loss(X_test, preds))\n",
    "\n"
   ]
  },
  {
   "cell_type": "code",
   "execution_count": 24,
   "metadata": {},
   "outputs": [
    {
     "name": "stdout",
     "output_type": "stream",
     "text": [
      "Training Accuracy: 73.50%\n",
      "Test Accuracy: 71.53%\n",
      "Number of iterations performed for each class: [110  26  20  46  46 118 193]\n",
      "Binary Classifier (Class 0 vs Rest):\n",
      "  Training Loss: 0.1135\n",
      "  Test Loss: 0.1192\n",
      "Binary Classifier (Class 1 vs Rest):\n",
      "  Training Loss: 0.2504\n",
      "  Test Loss: 0.2740\n",
      "Binary Classifier (Class 2 vs Rest):\n",
      "  Training Loss: 0.2866\n",
      "  Test Loss: 0.2843\n",
      "Binary Classifier (Class 3 vs Rest):\n",
      "  Training Loss: 0.2916\n",
      "  Test Loss: 0.2790\n",
      "Binary Classifier (Class 4 vs Rest):\n",
      "  Training Loss: 0.2935\n",
      "  Test Loss: 0.3344\n",
      "Binary Classifier (Class 5 vs Rest):\n",
      "  Training Loss: 0.1435\n",
      "  Test Loss: 0.1606\n",
      "Binary Classifier (Class 6 vs Rest):\n",
      "  Training Loss: 0.0794\n",
      "  Test Loss: 0.0746\n"
     ]
    },
    {
     "name": "stderr",
     "output_type": "stream",
     "text": [
      "/opt/anaconda3/envs/data2060/lib/python3.12/site-packages/sklearn/linear_model/_logistic.py:1256: FutureWarning: 'multi_class' was deprecated in version 1.5 and will be removed in 1.7. Use OneVsRestClassifier(LogisticRegression(..)) instead. Leave it to its default value to avoid this warning.\n",
      "  warnings.warn(\n"
     ]
    }
   ],
   "source": [
    "from sklearn.linear_model import LogisticRegression\n",
    "from sklearn.metrics import accuracy_score, classification_report\n",
    "\n",
    "\n",
    "# One-vs-All logistic regression\n",
    "model_ova = LogisticRegression(multi_class='ovr', solver='saga', max_iter=1000, random_state=42)\n",
    "model_ova.fit(X_train, y_train)\n",
    "\n",
    "\n",
    "# Evaluate on training and test data\n",
    "y_train_pred = model_ova.predict(X_train)\n",
    "y_test_pred = model_ova.predict(X_test)\n",
    "\n",
    "train_acc = accuracy_score(y_train, y_train_pred) \n",
    "test_acc = accuracy_score(y_test, y_test_pred) \n",
    "\n",
    "print(f\"Training Accuracy: {train_acc * 100:.2f}%\")\n",
    "print(f\"Test Accuracy: {test_acc * 100:.2f}%\")\n",
    "print(\"Number of iterations performed for each class:\", model_ova.n_iter_)\n",
    "\n",
    "from sklearn.metrics import accuracy_score, log_loss\n",
    "import numpy as np\n",
    "\n",
    "\n",
    "# Calculate per-class loss\n",
    "prob_train = model_ova.predict_proba(X_train)  # Probability predictions for training data\n",
    "prob_test = model_ova.predict_proba(X_test)    # Probability predictions for test data\n",
    "\n",
    "for class_i in range(len(model_ova.classes_)):\n",
    "    # Binary labels for class_i\n",
    "    y_train_binary = (y_train == class_i).astype(int)\n",
    "    y_test_binary = (y_test == class_i).astype(int)\n",
    "\n",
    "    # Compute log loss for training and test sets\n",
    "    train_loss = log_loss(y_train_binary, prob_train[:, class_i])\n",
    "    test_loss = log_loss(y_test_binary, prob_test[:, class_i])\n",
    "\n",
    "    # Print results\n",
    "    print(f\"Binary Classifier (Class {class_i} vs Rest):\")\n",
    "    print(f\"  Training Loss: {train_loss:.4f}\")\n",
    "    print(f\"  Test Loss: {test_loss:.4f}\")"
   ]
  }
 ],
 "metadata": {
  "kernelspec": {
   "display_name": "data2060",
   "language": "python",
   "name": "python3"
  },
  "language_info": {
   "codemirror_mode": {
    "name": "ipython",
    "version": 3
   },
   "file_extension": ".py",
   "mimetype": "text/x-python",
   "name": "python",
   "nbconvert_exporter": "python",
   "pygments_lexer": "ipython3",
   "version": "3.12.5"
  }
 },
 "nbformat": 4,
 "nbformat_minor": 2
}
