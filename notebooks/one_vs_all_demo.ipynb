{
 "cells": [
  {
   "cell_type": "code",
   "execution_count": 21,
   "metadata": {},
   "outputs": [
    {
     "name": "stdout",
     "output_type": "stream",
     "text": [
      "Current working directory: /Users/musatahir/CS2060/Multiclass-Classification-Algorithm\n"
     ]
    }
   ],
   "source": [
    "import os\n",
    "par_working_dir = \"/Users/musatahir/CS2060/Multiclass-Classification-Algorithm\"\n",
    "os.chdir(par_working_dir)\n",
    "print(\"Current working directory:\", os.getcwd())\n",
    "\n",
    "import pandas as pd\n",
    "from src.one_vs_all import OneVsAllLogisticRegression\n",
    "from src.binary_logistic_regression import BinaryLogisticRegression\n",
    "from sklearn.model_selection import train_test_split\n",
    "import random\n",
    "import numpy as np"
   ]
  },
  {
   "cell_type": "code",
   "execution_count": 85,
   "metadata": {},
   "outputs": [
    {
     "name": "stdout",
     "output_type": "stream",
     "text": [
      "Training Accuracy: 73.14%\n",
      "Test Accuracy: 70.10%\n"
     ]
    }
   ],
   "source": [
    "\n",
    "data = pd.read_csv(\"./data/processed/obesity_standardized.csv\")\n",
    "\n",
    "n_classes = 7\n",
    "n_features = 13\n",
    "batch_size = 1\n",
    "epochs = 100\n",
    "model = OneVsAllLogisticRegression(n_classes=n_classes, binary_classifier_class=BinaryLogisticRegression,\n",
    "            n_features=n_features,\n",
    "            batch_size=batch_size,\n",
    "            epochs=epochs, random_state=42\n",
    "        )\n",
    "\n",
    "X = data.drop('NObeyesdad', axis=1)\n",
    "y = data['NObeyesdad']\n",
    "\n",
    "\n",
    "X_train, X_test, y_train, y_test = train_test_split(X, y, test_size=0.2, random_state=42)\n",
    "model.train(X_train, y_train)\n",
    "train_acc = model.accuracy(X_train, y_train)\n",
    "test_acc = model.accuracy(X_test, y_test)\n",
    "print(f\"Training Accuracy: {train_acc * 100:.2f}%\")\n",
    "print(f\"Test Accuracy: {test_acc * 100:.2f}%\")\n",
    "\n"
   ]
  },
  {
   "cell_type": "code",
   "execution_count": 84,
   "metadata": {},
   "outputs": [
    {
     "name": "stdout",
     "output_type": "stream",
     "text": [
      "Training Accuracy: 73.50%\n",
      "Test Accuracy: 71.53%\n",
      "Number of iterations performed for each class: [110  26  20  46  46 118 193]\n"
     ]
    },
    {
     "name": "stderr",
     "output_type": "stream",
     "text": [
      "/opt/anaconda3/envs/data2060/lib/python3.12/site-packages/sklearn/linear_model/_logistic.py:1256: FutureWarning: 'multi_class' was deprecated in version 1.5 and will be removed in 1.7. Use OneVsRestClassifier(LogisticRegression(..)) instead. Leave it to its default value to avoid this warning.\n",
      "  warnings.warn(\n"
     ]
    }
   ],
   "source": [
    "from sklearn.linear_model import LogisticRegression\n",
    "from sklearn.metrics import accuracy_score, classification_report\n",
    "\n",
    "\n",
    "# One-vs-All logistic regression\n",
    "model_ova = LogisticRegression(multi_class='ovr', solver='saga', max_iter=1000, random_state=42)\n",
    "model_ova.fit(X_train, y_train)\n",
    "\n",
    "\n",
    "# Evaluate on training and test data\n",
    "y_train_pred = model_ova.predict(X_train)\n",
    "y_test_pred = model_ova.predict(X_test)\n",
    "\n",
    "train_acc = accuracy_score(y_train, y_train_pred) \n",
    "test_acc = accuracy_score(y_test, y_test_pred) \n",
    "\n",
    "print(f\"Training Accuracy: {train_acc * 100:.2f}%\")\n",
    "print(f\"Test Accuracy: {test_acc * 100:.2f}%\")\n",
    "print(\"Number of iterations performed for each class:\", model_ova.n_iter_)\n",
    "\n",
    "\n"
   ]
  }
 ],
 "metadata": {
  "kernelspec": {
   "display_name": "data2060",
   "language": "python",
   "name": "python3"
  },
  "language_info": {
   "codemirror_mode": {
    "name": "ipython",
    "version": 3
   },
   "file_extension": ".py",
   "mimetype": "text/x-python",
   "name": "python",
   "nbconvert_exporter": "python",
   "pygments_lexer": "ipython3",
   "version": "3.12.5"
  }
 },
 "nbformat": 4,
 "nbformat_minor": 2
}
